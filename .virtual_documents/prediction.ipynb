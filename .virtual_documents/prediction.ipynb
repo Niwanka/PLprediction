import pandas as pd



matches= pd.read_csv("PremierLeague.csv")


matches.head()



matches.shape


matches["HomeTeam"].value_counts()


matches[matches["Season"]== "2023-2024"]


matches["MatchWeek"].value_counts()


matches.dtypes






matches["Date"]= pd.to_datetime(matches["Date"])


matches.dtypes


from sklearn.preprocessing import LabelEncoder


matches.dropna(subset = ['HalfTimeResult', 'HalfTimeHomeTeamGoals', 'HalfTimeAwayTeamGoals'], inplace=True)


matches_filtered = matches[matches['Date'].dt.year >= 2000]
matches_filtered.loc[(matches.FullTimeResult == 'H'),'FTR']=0
matches_filtered.loc[(matches.FullTimeResult == 'A'),'FTR']=2
matches_filtered.loc[(matches.FullTimeResult == 'D'),'FTR']=1





matches_filtered.head()


matches_filtered["HomeTeam"].value_counts()


# Combine both columns to ensure consistent encoding
all_teams = pd.concat([matches_filtered['HomeTeam'], matches_filtered['AwayTeam']]).unique()

# Initialize LabelEncoder
le_team = LabelEncoder()

# Fit LabelEncoder on all unique team names
le_team.fit(all_teams)

# Transform and create new columns with encoded values
matches_filtered['HomeTeam_index'] = le_team.transform(matches_filtered['HomeTeam'])
matches_filtered['AwayTeam_index'] = le_team.transform(matches_filtered['AwayTeam'])


matches_filtered.head()


matches_filtered.tail()


columns = matches_filtered.columns

print("Columns in the DataFrame:")
for col in columns:
    print(col)


columns_to_drop = [
    'B365HomeTeam', 'B365Draw', 'B365AwayTeam', 'B365Over2.5Goals', 
    'B365Under2.5Goals', 'MarketMaxHomeTeam', 'MarketMaxDraw', 
    'MarketMaxAwayTeam', 'MarketAvgHomeTeam', 'MarketAvgDraw', 
    'MarketAvgAwayTeam', 'MarketMaxOver2.5Goals', 'MarketMaxUnder2.5Goals', 
    'MarketAvgOver2.5Goals', 'MarketAvgUnder2.5Goals'
]

matches_filtered.drop(columns=columns_to_drop, inplace=True)


('''matches_filtered.loc[(matches_filtered.FullTimeResult == 'H'),'FullTimeResult']=0
matches_filtered.loc[(matches_filtered.FullTimeResult == 'A'),'FullTimeResult']=2
matches_filtered.loc[(matches_filtered.FullTimeResult == 'D'),'FullTimeResult']=1

matches_filtered.loc[(matches_filtered.HalfTimeResult == 'H'),'HalfTimeResult']=0
matches_filtered.loc[(matches_filtered.HalfTimeResult == 'A'),'HalfTimeResult']=2
matches_filtered.loc[(matches_filtered.HalfTimeResult == 'D'),'HalfTimeResult']=1


matches_filtered['Year'] = matches_filtered['Date'].dt.year''')


('''valid_teams = [
    'Arsenal', 'Aston Villa', 'Bournemouth', 'Brentford', 'Brighton', 'Chelsea', 
    'Crystal Palace', 'Everton', 'Fulham', 'Ipswich', 'Leicester', 'Liverpool', 
    'Man City', 'Man United', 'Newcastle', 'Nott\'m Forest', 'Southampton', 
    'Tottenham', 'West Ham', 'Wolves'
]
# Filter the DataFrame
matches_filtered = matches_filtered[
    matches_filtered['HomeTeam'].isin(valid_teams) &
    matches_filtered['AwayTeam'].isin(valid_teams)
]''')



matches_filtered.tail(20)


matches_filtered["HomeTeam"].value_counts()


dummy_teams = pd.get_dummies(matches_filtered[['HomeTeam', 'AwayTeam']])
matches_filtered = pd.concat([matches_filtered, dummy_teams], axis=1)
matches_filtered.drop(['HomeTeam', 'AwayTeam'], axis=1, inplace=True)


matches_filtered['year'] = matches_filtered.Date.dt.year
matches_filtered['month'] = matches_filtered.Date.dt.month


matches_filtered.tail(10)


import tensorflow as tf
from tensorflow.keras.models import Sequential
from tensorflow.keras.layers import Dense, Dropout

features = ['HalfTimeHomeTeamGoals','HalfTimeAwayTeamGoals','year','month' ]
X = pd.concat([matches_filtered[features], dummy_teams], axis=1)

y = matches_filtered['FTR']
y_oneHot = tf.keras.utils.to_categorical(y,3)





from sklearn.model_selection import train_test_split

X_train, X_test, y_train, y_test = train_test_split(X, y, random_state=42)








from sklearn.ensemble import RandomForestClassifier

model = RandomForestClassifier(max_depth=35,random_state=42)
model.fit(X_train, y_train)


from sklearn.metrics import accuracy_score, classification_report

y_pred = model.predict(X_test)
print('Accuracy:', accuracy_score(y_test, y_pred))
print(classification_report(y_test, y_pred))



def predict_result(model, HomeTeam, AwayTeam, year, month, HTHG, HTAG, val_X_columns):
    # Initialize a DataFrame with zeros
    data = {col: [0] for col in val_X_columns}
    dataframe = pd.DataFrame(data)
    
    # Set the specific input values
    if f'HomeTeam_{HomeTeam}' in dataframe.columns:
        dataframe[f'HomeTeam_{HomeTeam}'] = 1
    if f'AwayTeam_{AwayTeam}' in dataframe.columns:
        dataframe[f'AwayTeam_{AwayTeam}'] = 1
    dataframe['HalfTimeHomeTeamGoals'] = HTHG
    dataframe['HalfTimeAwayTeamGoals'] = HTAG
    dataframe['year'] = year
    dataframe['month'] = month
    
    # Predict the result
    prediction = model.predict_proba(dataframe)
    
    return prediction

# Ensure val_X_columns is defined, which should be the columns from your validation set or training set
val_X_columns = X.columns



print(predict_result(model, 'Man city', 'Newcastle', 2025, 5, 0, 0, val_X_columns))


print(predict_result(model, 'chelsea', 'Newcastle', 2025, 5, 0, 0, val_X_columns))
















